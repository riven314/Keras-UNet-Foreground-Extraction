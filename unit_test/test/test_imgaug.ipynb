{
 "nbformat": 4,
 "nbformat_minor": 2,
 "metadata": {
  "language_info": {
   "name": "python",
   "codemirror_mode": {
    "name": "ipython",
    "version": 3
   }
  },
  "orig_nbformat": 2,
  "file_extension": ".py",
  "mimetype": "text/x-python",
  "name": "python",
  "npconvert_exporter": "python",
  "pygments_lexer": "ipython3",
  "version": 3
 },
 "cells": [
  {
   "cell_type": "markdown",
   "execution_count": 25,
   "metadata": {},
   "outputs": [
    {
     "name": "stdout",
     "output_type": "stream",
     "text": "current dir: d:\\personal\\BAL\\fg_bg_separation\\Keras-UNet-Foreground-Extraction\n"
    }
   ],
   "source": [
    "\n",
    "### INVESTIGATION\n",
    "1. target data augmentations\n",
    "2. try wide images (e.g. 1280 x 720 x 1)\n",
    "\n",
    "### REMARK\n",
    "1. same seed can result in different augmented images\n",
    "2. vertical_flip, horizontal_flip occurs 50%\n",
    "3. width_shift_range / height_shift_range: number of pixels (int) / fraction of total width or height (float) \n",
    "    - (accompany with fill_mode on how new pixels should be filled)\n",
    "4. rotation_range: in degree range (clockwise / counter-clockwise)\n",
    "5. shear_range: in degree range (counter-clockwise)\n",
    "6. zoom_range: float -> apply same zooming scale on width and height\n",
    "7. ImageDataGenerator.flow_from_directory has a parameter \"interpolation\" for resizing\n",
    "\n",
    "### TO BE DONW:\n",
    "1. add interpolation argument in ImageDataGenerator.flow_from_directory()\n",
    "2. unit test data.py script\n",
    "\n",
    "### REFERENCE\n",
    "1. Explanation on different augmentation parameters(keras): https://zhuanlan.zhihu.com/p/30197320"
   ]
  },
  {
   "cell_type": "markdown",
   "execution_count": 27,
   "metadata": {},
   "outputs": [],
   "source": [
    "### 1. INSPECT ORIGINAL DATA"
   ]
  },
  {
   "cell_type": "code",
   "execution_count": 29,
   "metadata": {},
   "outputs": [
    {
     "name": "stdout",
     "output_type": "stream",
     "text": "orig image shape = (512, 512, 3)\n"
    }
   ],
   "source": [
    "import cv2\n",
    "\n",
    "DATA_PATH = os.path.join('test_data', 'train')\n",
    "img = cv2.imread(os.path.join(DATA_PATH, 'image', '0.png'))\n",
    "print('orig image shape = {}'.format(img.shape))"
   ]
  },
  {
   "cell_type": "markdown",
   "execution_count": null,
   "metadata": {},
   "outputs": [],
   "source": [
    "### 2. GENERATE AUGMENTED DATA"
   ]
  },
  {
   "cell_type": "code",
   "execution_count": 28,
   "metadata": {},
   "outputs": [
    {
     "name": "stdout",
     "output_type": "stream",
     "text": "current dir: d:\\personal\\BAL\\fg_bg_separation\\Keras-UNet-Foreground-Extraction\n"
    }
   ],
   "source": [
    "from data import *\n",
    "import os\n",
    "import sys\n",
    "\n",
    "print('current dir: {}'.format(os.getcwd()))"
   ]
  },
  {
   "cell_type": "code",
   "execution_count": 50,
   "metadata": {},
   "outputs": [],
   "source": [
    "data_gen_args = dict(\n",
    "    rotation_range = 45,\n",
    "    horizontal_flip = True,\n",
    "    vertical_flip = True,\n",
    "    width_shift_range = 0.05,\n",
    "    height_shift_range = 0.05,\n",
    "    shear_range = 10.,\n",
    "    zoom_range = 0.1,\n",
    "    fill_mode = 'nearest')\n",
    "\n",
    "myGenerator = trainGenerator(1, DATA_PATH,\n",
    "                             'image','label',\n",
    "                             data_gen_args,\n",
    "                             save_to_dir = os.path.join(DATA_PATH, 'aug'),\n",
    "                             target_size = (512, 512),\n",
    "                             seed = 10)"
   ]
  },
  {
   "cell_type": "code",
   "execution_count": 51,
   "metadata": {},
   "outputs": [
    {
     "name": "stdout",
     "output_type": "stream",
     "text": "Found 1 images belonging to 1 classes.\nFound 1 images belonging to 1 classes.\nimage size = (1, 512, 512, 1)\nlabel size = (1, 512, 512, 1)\nimage size = (1, 512, 512, 1)\nlabel size = (1, 512, 512, 1)\nimage size = (1, 512, 512, 1)\nlabel size = (1, 512, 512, 1)\nimage size = (1, 512, 512, 1)\nlabel size = (1, 512, 512, 1)\nimage size = (1, 512, 512, 1)\nlabel size = (1, 512, 512, 1)\n"
    }
   ],
   "source": [
    "limit = 5\n",
    "for i, batch in enumerate(myGenerator):\n",
    "    if i == limit:\n",
    "        break\n",
    "    x, y = batch\n",
    "    print('image size = {}'.format(x.shape))\n",
    "    print('label size = {}'.format(y.shape))"
   ]
  }
 ]
}